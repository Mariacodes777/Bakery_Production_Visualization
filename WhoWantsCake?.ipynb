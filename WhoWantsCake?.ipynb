{
 "cells": [
  {
   "cell_type": "markdown",
   "id": "e29bd0e2",
   "metadata": {},
   "source": [
    "### Here are some fun cakes!"
   ]
  },
  {
   "cell_type": "markdown",
   "id": "fdd91697",
   "metadata": {},
   "source": [
    "![MomCake.png](MediaImages/MomCake.png)"
   ]
  },
  {
   "cell_type": "markdown",
   "id": "4359ed95",
   "metadata": {},
   "source": [
    "![FlowerPullapart.png](MediaImages/FlowerPullapart.png)"
   ]
  },
  {
   "cell_type": "markdown",
   "id": "52caaf72",
   "metadata": {},
   "source": [
    "![FlowersCake.png](MediaImages/MiniCake.png)"
   ]
  },
  {
   "cell_type": "markdown",
   "id": "2c35eefc",
   "metadata": {},
   "source": [
    "![beach.png](MediaImages/beach.png)"
   ]
  },
  {
   "cell_type": "markdown",
   "id": "722eceb1",
   "metadata": {},
   "source": [
    "![Cutie.png](MediaImages/Cutie.png)"
   ]
  },
  {
   "cell_type": "markdown",
   "id": "3aa90362",
   "metadata": {},
   "source": [
    "![Sunflower.png](MediaImages/Sunflower.png)"
   ]
  },
  {
   "cell_type": "markdown",
   "id": "b745efd2",
   "metadata": {},
   "source": [
    "![WinterDesigns.png](MediaImages/WinterDesigns.png)"
   ]
  },
  {
   "cell_type": "markdown",
   "id": "868667d3",
   "metadata": {},
   "source": [
    "![Cake.png](MediaImages/Cake.png)"
   ]
  },
  {
   "cell_type": "markdown",
   "id": "39c13aeb",
   "metadata": {},
   "source": [
    "![PumpkinCake.png](MediaImages/PumpkinCake.png)"
   ]
  },
  {
   "cell_type": "code",
   "execution_count": null,
   "id": "4f91d1cd",
   "metadata": {},
   "outputs": [],
   "source": []
  }
 ],
 "metadata": {
  "kernelspec": {
   "display_name": "R",
   "language": "R",
   "name": "ir"
  },
  "language_info": {
   "codemirror_mode": "r",
   "file_extension": ".r",
   "mimetype": "text/x-r-source",
   "name": "R",
   "pygments_lexer": "r",
   "version": "4.1.2"
  }
 },
 "nbformat": 4,
 "nbformat_minor": 5
}
